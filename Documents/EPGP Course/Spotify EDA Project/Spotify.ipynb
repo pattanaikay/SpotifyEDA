{
 "cells": [
  {
   "cell_type": "code",
   "execution_count": 1,
   "id": "7fe1c45a",
   "metadata": {},
   "outputs": [],
   "source": [
    "#import required libraries \n",
    "\n",
    "import numpy as np\n",
    "import pandas as pd \n",
    "from matplotlib import pyplot as plt\n",
    "import seaborn as sns\n",
    "\n",
    "\n",
    "import warnings\n",
    "warnings.simplefilter(action='ignore', category=FutureWarning)"
   ]
  },
  {
   "cell_type": "code",
   "execution_count": 2,
   "id": "cd3896b4",
   "metadata": {},
   "outputs": [],
   "source": [
    "#reading the file from the folder\n",
    "data = pd.read_csv(\"data.csv\")"
   ]
  },
  {
   "cell_type": "code",
   "execution_count": 3,
   "id": "7434a2c5",
   "metadata": {},
   "outputs": [
    {
     "data": {
      "text/html": [
       "<div>\n",
       "<style scoped>\n",
       "    .dataframe tbody tr th:only-of-type {\n",
       "        vertical-align: middle;\n",
       "    }\n",
       "\n",
       "    .dataframe tbody tr th {\n",
       "        vertical-align: top;\n",
       "    }\n",
       "\n",
       "    .dataframe thead th {\n",
       "        text-align: right;\n",
       "    }\n",
       "</style>\n",
       "<table border=\"1\" class=\"dataframe\">\n",
       "  <thead>\n",
       "    <tr style=\"text-align: right;\">\n",
       "      <th></th>\n",
       "      <th>danceability</th>\n",
       "      <th>energy</th>\n",
       "      <th>key</th>\n",
       "      <th>loudness</th>\n",
       "      <th>mode</th>\n",
       "      <th>speechiness</th>\n",
       "      <th>acousticness</th>\n",
       "      <th>instrumentalness</th>\n",
       "      <th>liveness</th>\n",
       "      <th>valence</th>\n",
       "      <th>tempo</th>\n",
       "      <th>duration_ms</th>\n",
       "      <th>time_signature</th>\n",
       "      <th>liked</th>\n",
       "    </tr>\n",
       "  </thead>\n",
       "  <tbody>\n",
       "    <tr>\n",
       "      <th>0</th>\n",
       "      <td>0.803</td>\n",
       "      <td>0.6240</td>\n",
       "      <td>7</td>\n",
       "      <td>-6.764</td>\n",
       "      <td>0</td>\n",
       "      <td>0.0477</td>\n",
       "      <td>0.451</td>\n",
       "      <td>0.000734</td>\n",
       "      <td>0.1000</td>\n",
       "      <td>0.6280</td>\n",
       "      <td>95.968</td>\n",
       "      <td>304524</td>\n",
       "      <td>4</td>\n",
       "      <td>0</td>\n",
       "    </tr>\n",
       "    <tr>\n",
       "      <th>1</th>\n",
       "      <td>0.762</td>\n",
       "      <td>0.7030</td>\n",
       "      <td>10</td>\n",
       "      <td>-7.951</td>\n",
       "      <td>0</td>\n",
       "      <td>0.3060</td>\n",
       "      <td>0.206</td>\n",
       "      <td>0.000000</td>\n",
       "      <td>0.0912</td>\n",
       "      <td>0.5190</td>\n",
       "      <td>151.329</td>\n",
       "      <td>247178</td>\n",
       "      <td>4</td>\n",
       "      <td>1</td>\n",
       "    </tr>\n",
       "    <tr>\n",
       "      <th>2</th>\n",
       "      <td>0.261</td>\n",
       "      <td>0.0149</td>\n",
       "      <td>1</td>\n",
       "      <td>-27.528</td>\n",
       "      <td>1</td>\n",
       "      <td>0.0419</td>\n",
       "      <td>0.992</td>\n",
       "      <td>0.897000</td>\n",
       "      <td>0.1020</td>\n",
       "      <td>0.0382</td>\n",
       "      <td>75.296</td>\n",
       "      <td>286987</td>\n",
       "      <td>4</td>\n",
       "      <td>0</td>\n",
       "    </tr>\n",
       "    <tr>\n",
       "      <th>3</th>\n",
       "      <td>0.722</td>\n",
       "      <td>0.7360</td>\n",
       "      <td>3</td>\n",
       "      <td>-6.994</td>\n",
       "      <td>0</td>\n",
       "      <td>0.0585</td>\n",
       "      <td>0.431</td>\n",
       "      <td>0.000001</td>\n",
       "      <td>0.1230</td>\n",
       "      <td>0.5820</td>\n",
       "      <td>89.860</td>\n",
       "      <td>208920</td>\n",
       "      <td>4</td>\n",
       "      <td>1</td>\n",
       "    </tr>\n",
       "    <tr>\n",
       "      <th>4</th>\n",
       "      <td>0.787</td>\n",
       "      <td>0.5720</td>\n",
       "      <td>1</td>\n",
       "      <td>-7.516</td>\n",
       "      <td>1</td>\n",
       "      <td>0.2220</td>\n",
       "      <td>0.145</td>\n",
       "      <td>0.000000</td>\n",
       "      <td>0.0753</td>\n",
       "      <td>0.6470</td>\n",
       "      <td>155.117</td>\n",
       "      <td>179413</td>\n",
       "      <td>4</td>\n",
       "      <td>1</td>\n",
       "    </tr>\n",
       "  </tbody>\n",
       "</table>\n",
       "</div>"
      ],
      "text/plain": [
       "   danceability  energy  key  loudness  mode  speechiness  acousticness  \\\n",
       "0         0.803  0.6240    7    -6.764     0       0.0477         0.451   \n",
       "1         0.762  0.7030   10    -7.951     0       0.3060         0.206   \n",
       "2         0.261  0.0149    1   -27.528     1       0.0419         0.992   \n",
       "3         0.722  0.7360    3    -6.994     0       0.0585         0.431   \n",
       "4         0.787  0.5720    1    -7.516     1       0.2220         0.145   \n",
       "\n",
       "   instrumentalness  liveness  valence    tempo  duration_ms  time_signature  \\\n",
       "0          0.000734    0.1000   0.6280   95.968       304524               4   \n",
       "1          0.000000    0.0912   0.5190  151.329       247178               4   \n",
       "2          0.897000    0.1020   0.0382   75.296       286987               4   \n",
       "3          0.000001    0.1230   0.5820   89.860       208920               4   \n",
       "4          0.000000    0.0753   0.6470  155.117       179413               4   \n",
       "\n",
       "   liked  \n",
       "0      0  \n",
       "1      1  \n",
       "2      0  \n",
       "3      1  \n",
       "4      1  "
      ]
     },
     "execution_count": 3,
     "metadata": {},
     "output_type": "execute_result"
    }
   ],
   "source": [
    "data.head(5)"
   ]
  },
  {
   "cell_type": "code",
   "execution_count": 4,
   "id": "b7be1a50",
   "metadata": {},
   "outputs": [
    {
     "data": {
      "text/html": [
       "<div>\n",
       "<style scoped>\n",
       "    .dataframe tbody tr th:only-of-type {\n",
       "        vertical-align: middle;\n",
       "    }\n",
       "\n",
       "    .dataframe tbody tr th {\n",
       "        vertical-align: top;\n",
       "    }\n",
       "\n",
       "    .dataframe thead th {\n",
       "        text-align: right;\n",
       "    }\n",
       "</style>\n",
       "<table border=\"1\" class=\"dataframe\">\n",
       "  <thead>\n",
       "    <tr style=\"text-align: right;\">\n",
       "      <th></th>\n",
       "      <th>danceability</th>\n",
       "      <th>energy</th>\n",
       "      <th>key</th>\n",
       "      <th>loudness</th>\n",
       "      <th>mode</th>\n",
       "      <th>speechiness</th>\n",
       "      <th>acousticness</th>\n",
       "      <th>instrumentalness</th>\n",
       "      <th>liveness</th>\n",
       "      <th>valence</th>\n",
       "      <th>tempo</th>\n",
       "      <th>duration_ms</th>\n",
       "      <th>time_signature</th>\n",
       "      <th>liked</th>\n",
       "    </tr>\n",
       "  </thead>\n",
       "  <tbody>\n",
       "    <tr>\n",
       "      <th>count</th>\n",
       "      <td>195.000000</td>\n",
       "      <td>195.000000</td>\n",
       "      <td>195.000000</td>\n",
       "      <td>195.000000</td>\n",
       "      <td>195.000000</td>\n",
       "      <td>195.000000</td>\n",
       "      <td>195.000000</td>\n",
       "      <td>195.000000</td>\n",
       "      <td>195.000000</td>\n",
       "      <td>195.000000</td>\n",
       "      <td>195.000000</td>\n",
       "      <td>195.000000</td>\n",
       "      <td>195.000000</td>\n",
       "      <td>195.000000</td>\n",
       "    </tr>\n",
       "    <tr>\n",
       "      <th>mean</th>\n",
       "      <td>0.636656</td>\n",
       "      <td>0.638431</td>\n",
       "      <td>5.497436</td>\n",
       "      <td>-9.481631</td>\n",
       "      <td>0.538462</td>\n",
       "      <td>0.148957</td>\n",
       "      <td>0.319093</td>\n",
       "      <td>0.192337</td>\n",
       "      <td>0.148455</td>\n",
       "      <td>0.493632</td>\n",
       "      <td>121.086174</td>\n",
       "      <td>213408.933333</td>\n",
       "      <td>3.912821</td>\n",
       "      <td>0.512821</td>\n",
       "    </tr>\n",
       "    <tr>\n",
       "      <th>std</th>\n",
       "      <td>0.216614</td>\n",
       "      <td>0.260096</td>\n",
       "      <td>3.415209</td>\n",
       "      <td>6.525086</td>\n",
       "      <td>0.499802</td>\n",
       "      <td>0.120414</td>\n",
       "      <td>0.320782</td>\n",
       "      <td>0.346226</td>\n",
       "      <td>0.105975</td>\n",
       "      <td>0.267695</td>\n",
       "      <td>28.084829</td>\n",
       "      <td>72152.392864</td>\n",
       "      <td>0.451332</td>\n",
       "      <td>0.501122</td>\n",
       "    </tr>\n",
       "    <tr>\n",
       "      <th>min</th>\n",
       "      <td>0.130000</td>\n",
       "      <td>0.002400</td>\n",
       "      <td>0.000000</td>\n",
       "      <td>-42.261000</td>\n",
       "      <td>0.000000</td>\n",
       "      <td>0.027800</td>\n",
       "      <td>0.000003</td>\n",
       "      <td>0.000000</td>\n",
       "      <td>0.033100</td>\n",
       "      <td>0.035300</td>\n",
       "      <td>60.171000</td>\n",
       "      <td>77203.000000</td>\n",
       "      <td>1.000000</td>\n",
       "      <td>0.000000</td>\n",
       "    </tr>\n",
       "    <tr>\n",
       "      <th>25%</th>\n",
       "      <td>0.462500</td>\n",
       "      <td>0.533500</td>\n",
       "      <td>2.000000</td>\n",
       "      <td>-9.962000</td>\n",
       "      <td>0.000000</td>\n",
       "      <td>0.056800</td>\n",
       "      <td>0.042200</td>\n",
       "      <td>0.000000</td>\n",
       "      <td>0.084000</td>\n",
       "      <td>0.269000</td>\n",
       "      <td>100.242000</td>\n",
       "      <td>178300.500000</td>\n",
       "      <td>4.000000</td>\n",
       "      <td>0.000000</td>\n",
       "    </tr>\n",
       "    <tr>\n",
       "      <th>50%</th>\n",
       "      <td>0.705000</td>\n",
       "      <td>0.659000</td>\n",
       "      <td>6.000000</td>\n",
       "      <td>-7.766000</td>\n",
       "      <td>1.000000</td>\n",
       "      <td>0.096200</td>\n",
       "      <td>0.213000</td>\n",
       "      <td>0.000008</td>\n",
       "      <td>0.105000</td>\n",
       "      <td>0.525000</td>\n",
       "      <td>124.896000</td>\n",
       "      <td>204000.000000</td>\n",
       "      <td>4.000000</td>\n",
       "      <td>1.000000</td>\n",
       "    </tr>\n",
       "    <tr>\n",
       "      <th>75%</th>\n",
       "      <td>0.799000</td>\n",
       "      <td>0.837500</td>\n",
       "      <td>8.000000</td>\n",
       "      <td>-5.829000</td>\n",
       "      <td>1.000000</td>\n",
       "      <td>0.230500</td>\n",
       "      <td>0.504000</td>\n",
       "      <td>0.097500</td>\n",
       "      <td>0.177000</td>\n",
       "      <td>0.717500</td>\n",
       "      <td>142.460500</td>\n",
       "      <td>242373.500000</td>\n",
       "      <td>4.000000</td>\n",
       "      <td>1.000000</td>\n",
       "    </tr>\n",
       "    <tr>\n",
       "      <th>max</th>\n",
       "      <td>0.946000</td>\n",
       "      <td>0.996000</td>\n",
       "      <td>11.000000</td>\n",
       "      <td>-2.336000</td>\n",
       "      <td>1.000000</td>\n",
       "      <td>0.540000</td>\n",
       "      <td>0.995000</td>\n",
       "      <td>0.969000</td>\n",
       "      <td>0.633000</td>\n",
       "      <td>0.980000</td>\n",
       "      <td>180.036000</td>\n",
       "      <td>655213.000000</td>\n",
       "      <td>5.000000</td>\n",
       "      <td>1.000000</td>\n",
       "    </tr>\n",
       "  </tbody>\n",
       "</table>\n",
       "</div>"
      ],
      "text/plain": [
       "       danceability      energy         key    loudness        mode  \\\n",
       "count    195.000000  195.000000  195.000000  195.000000  195.000000   \n",
       "mean       0.636656    0.638431    5.497436   -9.481631    0.538462   \n",
       "std        0.216614    0.260096    3.415209    6.525086    0.499802   \n",
       "min        0.130000    0.002400    0.000000  -42.261000    0.000000   \n",
       "25%        0.462500    0.533500    2.000000   -9.962000    0.000000   \n",
       "50%        0.705000    0.659000    6.000000   -7.766000    1.000000   \n",
       "75%        0.799000    0.837500    8.000000   -5.829000    1.000000   \n",
       "max        0.946000    0.996000   11.000000   -2.336000    1.000000   \n",
       "\n",
       "       speechiness  acousticness  instrumentalness    liveness     valence  \\\n",
       "count   195.000000    195.000000        195.000000  195.000000  195.000000   \n",
       "mean      0.148957      0.319093          0.192337    0.148455    0.493632   \n",
       "std       0.120414      0.320782          0.346226    0.105975    0.267695   \n",
       "min       0.027800      0.000003          0.000000    0.033100    0.035300   \n",
       "25%       0.056800      0.042200          0.000000    0.084000    0.269000   \n",
       "50%       0.096200      0.213000          0.000008    0.105000    0.525000   \n",
       "75%       0.230500      0.504000          0.097500    0.177000    0.717500   \n",
       "max       0.540000      0.995000          0.969000    0.633000    0.980000   \n",
       "\n",
       "            tempo    duration_ms  time_signature       liked  \n",
       "count  195.000000     195.000000      195.000000  195.000000  \n",
       "mean   121.086174  213408.933333        3.912821    0.512821  \n",
       "std     28.084829   72152.392864        0.451332    0.501122  \n",
       "min     60.171000   77203.000000        1.000000    0.000000  \n",
       "25%    100.242000  178300.500000        4.000000    0.000000  \n",
       "50%    124.896000  204000.000000        4.000000    1.000000  \n",
       "75%    142.460500  242373.500000        4.000000    1.000000  \n",
       "max    180.036000  655213.000000        5.000000    1.000000  "
      ]
     },
     "execution_count": 4,
     "metadata": {},
     "output_type": "execute_result"
    }
   ],
   "source": [
    "data.describe()"
   ]
  },
  {
   "cell_type": "code",
   "execution_count": 5,
   "id": "73e6aa86",
   "metadata": {},
   "outputs": [
    {
     "data": {
      "text/plain": [
       "(195, 14)"
      ]
     },
     "execution_count": 5,
     "metadata": {},
     "output_type": "execute_result"
    }
   ],
   "source": [
    "data.shape"
   ]
  },
  {
   "cell_type": "code",
   "execution_count": 6,
   "id": "569fabee",
   "metadata": {},
   "outputs": [
    {
     "data": {
      "text/plain": [
       "danceability        0\n",
       "energy              0\n",
       "key                 0\n",
       "loudness            0\n",
       "mode                0\n",
       "speechiness         0\n",
       "acousticness        0\n",
       "instrumentalness    0\n",
       "liveness            0\n",
       "valence             0\n",
       "tempo               0\n",
       "duration_ms         0\n",
       "time_signature      0\n",
       "liked               0\n",
       "dtype: int64"
      ]
     },
     "execution_count": 6,
     "metadata": {},
     "output_type": "execute_result"
    }
   ],
   "source": [
    "#check if there is any missing value\n",
    "\n",
    "data.isna().sum()"
   ]
  },
  {
   "cell_type": "code",
   "execution_count": 10,
   "id": "e105cb37",
   "metadata": {},
   "outputs": [
    {
     "data": {
      "text/plain": [
       "0"
      ]
     },
     "execution_count": 10,
     "metadata": {},
     "output_type": "execute_result"
    }
   ],
   "source": [
    "#finding total number of missing values\n",
    "\n",
    "data.isna().sum().sum()"
   ]
  },
  {
   "cell_type": "code",
   "execution_count": 19,
   "id": "205eef72",
   "metadata": {},
   "outputs": [
    {
     "data": {
      "text/plain": [
       "<AxesSubplot:>"
      ]
     },
     "execution_count": 19,
     "metadata": {},
     "output_type": "execute_result"
    },
    {
     "data": {
      "image/png": "[encoded data removed]",
      "text/plain": [
       "<Figure size 1296x720 with 2 Axes>"
      ]
     },
     "metadata": {
      "needs_background": "light"
     },
     "output_type": "display_data"
    }
   ],
   "source": [
    "#finding a correlation between different quantities like tempo, danceability \n",
    "\n",
    "corr = data[['acousticness','danceability','energy',\n",
    "'instrumentalness','liveness','tempo','valence', 'speechiness', 'loudness']].corr()\n",
    "\n",
    "sns.set(style='darkgrid')\n",
    "\n",
    "%matplotlib inline\n",
    "plt.figure(figsize=(18,10))\n",
    "sns.heatmap(corr, annot=True)"
   ]
  },
  {
   "cell_type": "code",
   "execution_count": 20,
   "id": "ccfae9b1",
   "metadata": {},
   "outputs": [
    {
     "name": "stdout",
     "output_type": "stream",
     "text": [
      "<class 'pandas.core.frame.DataFrame'>\n",
      "RangeIndex: 195 entries, 0 to 194\n",
      "Data columns (total 14 columns):\n",
      " #   Column            Non-Null Count  Dtype  \n",
      "---  ------            --------------  -----  \n",
      " 0   danceability      195 non-null    float64\n",
      " 1   energy            195 non-null    float64\n",
      " 2   key               195 non-null    int64  \n",
      " 3   loudness          195 non-null    float64\n",
      " 4   mode              195 non-null    int64  \n",
      " 5   speechiness       195 non-null    float64\n",
      " 6   acousticness      195 non-null    float64\n",
      " 7   instrumentalness  195 non-null    float64\n",
      " 8   liveness          195 non-null    float64\n",
      " 9   valence           195 non-null    float64\n",
      " 10  tempo             195 non-null    float64\n",
      " 11  duration_ms       195 non-null    int64  \n",
      " 12  time_signature    195 non-null    int64  \n",
      " 13  liked             195 non-null    int64  \n",
      "dtypes: float64(9), int64(5)\n",
      "memory usage: 21.5 KB\n"
     ]
    }
   ],
   "source": [
    "data.info()"
   ]
  },
  {
   "cell_type": "code",
   "execution_count": 22,
   "id": "427bf8bc",
   "metadata": {},
   "outputs": [
    {
     "data": {
      "text/plain": [
       "1    100\n",
       "0     95\n",
       "Name: liked, dtype: int64"
      ]
     },
     "execution_count": 22,
     "metadata": {},
     "output_type": "execute_result"
    }
   ],
   "source": [
    "#finding out how many songs are liked or not liked\n",
    "\n",
    "data['liked'].value_counts()"
   ]
  },
  {
   "cell_type": "code",
   "execution_count": 23,
   "id": "302c3674",
   "metadata": {},
   "outputs": [
    {
     "data": {
      "text/plain": [
       "1    105\n",
       "0     90\n",
       "Name: mode, dtype: int64"
      ]
     },
     "execution_count": 23,
     "metadata": {},
     "output_type": "execute_result"
    }
   ],
   "source": [
    "data['mode'].value_counts()"
   ]
  },
  {
   "cell_type": "code",
   "execution_count": 25,
   "id": "2988e95d",
   "metadata": {
    "scrolled": true
   },
   "outputs": [
    {
     "data": {
      "text/html": [
       "<style type=\"text/css\">\n",
       "#T_d516a_row0_col0, #T_d516a_row1_col1, #T_d516a_row2_col2, #T_d516a_row3_col3, #T_d516a_row4_col4, #T_d516a_row5_col5, #T_d516a_row6_col6, #T_d516a_row7_col7, #T_d516a_row8_col8, #T_d516a_row9_col9, #T_d516a_row10_col10, #T_d516a_row11_col11, #T_d516a_row12_col12, #T_d516a_row13_col13 {\n",
       "  background-color: #00441b;\n",
       "  color: #f1f1f1;\n",
       "}\n",
       "#T_d516a_row0_col1, #T_d516a_row11_col6 {\n",
       "  background-color: #6ec173;\n",
       "  color: #000000;\n",
       "}\n",
       "#T_d516a_row0_col2, #T_d516a_row1_col4 {\n",
       "  background-color: #f2faef;\n",
       "  color: #000000;\n",
       "}\n",
       "#T_d516a_row0_col3 {\n",
       "  background-color: #359e53;\n",
       "  color: #f1f1f1;\n",
       "}\n",
       "#T_d516a_row0_col4, #T_d516a_row12_col2 {\n",
       "  background-color: #e2f4dd;\n",
       "  color: #000000;\n",
       "}\n",
       "#T_d516a_row0_col5 {\n",
       "  background-color: #5bb86a;\n",
       "  color: #f1f1f1;\n",
       "}\n",
       "#T_d516a_row0_col6, #T_d516a_row4_col5, #T_d516a_row12_col11 {\n",
       "  background-color: #b7e2b1;\n",
       "  color: #000000;\n",
       "}\n",
       "#T_d516a_row0_col7, #T_d516a_row1_col6, #T_d516a_row4_col2, #T_d516a_row6_col1, #T_d516a_row6_col3, #T_d516a_row6_col8, #T_d516a_row7_col0, #T_d516a_row7_col9, #T_d516a_row7_col10, #T_d516a_row7_col12, #T_d516a_row7_col13, #T_d516a_row11_col5, #T_d516a_row11_col8, #T_d516a_row12_col4, #T_d516a_row13_col11 {\n",
       "  background-color: #f7fcf5;\n",
       "  color: #000000;\n",
       "}\n",
       "#T_d516a_row0_col8, #T_d516a_row2_col4, #T_d516a_row5_col2, #T_d516a_row12_col8 {\n",
       "  background-color: #f6fcf4;\n",
       "  color: #000000;\n",
       "}\n",
       "#T_d516a_row0_col9 {\n",
       "  background-color: #228a44;\n",
       "  color: #f1f1f1;\n",
       "}\n",
       "#T_d516a_row0_col10 {\n",
       "  background-color: #97d492;\n",
       "  color: #000000;\n",
       "}\n",
       "#T_d516a_row0_col11, #T_d516a_row7_col8, #T_d516a_row8_col12 {\n",
       "  background-color: #daf0d4;\n",
       "  color: #000000;\n",
       "}\n",
       "#T_d516a_row0_col12, #T_d516a_row10_col9 {\n",
       "  background-color: #73c476;\n",
       "  color: #000000;\n",
       "}\n",
       "#T_d516a_row0_col13 {\n",
       "  background-color: #29914a;\n",
       "  color: #f1f1f1;\n",
       "}\n",
       "#T_d516a_row1_col0 {\n",
       "  background-color: #6bc072;\n",
       "  color: #000000;\n",
       "}\n",
       "#T_d516a_row1_col2, #T_d516a_row2_col5 {\n",
       "  background-color: #d0edca;\n",
       "  color: #000000;\n",
       "}\n",
       "#T_d516a_row1_col3 {\n",
       "  background-color: #00682a;\n",
       "  color: #f1f1f1;\n",
       "}\n",
       "#T_d516a_row1_col5, #T_d516a_row8_col0 {\n",
       "  background-color: #a3da9d;\n",
       "  color: #000000;\n",
       "}\n",
       "#T_d516a_row1_col7 {\n",
       "  background-color: #b4e1ad;\n",
       "  color: #000000;\n",
       "}\n",
       "#T_d516a_row1_col8 {\n",
       "  background-color: #c1e6ba;\n",
       "  color: #000000;\n",
       "}\n",
       "#T_d516a_row1_col9, #T_d516a_row5_col3, #T_d516a_row10_col0 {\n",
       "  background-color: #58b668;\n",
       "  color: #f1f1f1;\n",
       "}\n",
       "#T_d516a_row1_col10, #T_d516a_row2_col6, #T_d516a_row4_col1, #T_d516a_row9_col10 {\n",
       "  background-color: #99d595;\n",
       "  color: #000000;\n",
       "}\n",
       "#T_d516a_row1_col11, #T_d516a_row12_col7 {\n",
       "  background-color: #caeac3;\n",
       "  color: #000000;\n",
       "}\n",
       "#T_d516a_row1_col12, #T_d516a_row11_col1 {\n",
       "  background-color: #a5db9f;\n",
       "  color: #000000;\n",
       "}\n",
       "#T_d516a_row1_col13 {\n",
       "  background-color: #7dc87e;\n",
       "  color: #000000;\n",
       "}\n",
       "#T_d516a_row2_col0 {\n",
       "  background-color: #94d390;\n",
       "  color: #000000;\n",
       "}\n",
       "#T_d516a_row2_col1 {\n",
       "  background-color: #70c274;\n",
       "  color: #000000;\n",
       "}\n",
       "#T_d516a_row2_col3 {\n",
       "  background-color: #8ed08b;\n",
       "  color: #000000;\n",
       "}\n",
       "#T_d516a_row2_col7, #T_d516a_row8_col3 {\n",
       "  background-color: #87cd86;\n",
       "  color: #000000;\n",
       "}\n",
       "#T_d516a_row2_col8 {\n",
       "  background-color: #eaf7e6;\n",
       "  color: #000000;\n",
       "}\n",
       "#T_d516a_row2_col9, #T_d516a_row4_col9 {\n",
       "  background-color: #9ed798;\n",
       "  color: #000000;\n",
       "}\n",
       "#T_d516a_row2_col10, #T_d516a_row2_col12 {\n",
       "  background-color: #b6e2af;\n",
       "  color: #000000;\n",
       "}\n",
       "#T_d516a_row2_col11 {\n",
       "  background-color: #a4da9e;\n",
       "  color: #000000;\n",
       "}\n",
       "#T_d516a_row2_col13, #T_d516a_row13_col6 {\n",
       "  background-color: #aedea7;\n",
       "  color: #000000;\n",
       "}\n",
       "#T_d516a_row3_col0 {\n",
       "  background-color: #2f984f;\n",
       "  color: #f1f1f1;\n",
       "}\n",
       "#T_d516a_row3_col1 {\n",
       "  background-color: #006529;\n",
       "  color: #f1f1f1;\n",
       "}\n",
       "#T_d516a_row3_col2 {\n",
       "  background-color: #e3f4de;\n",
       "  color: #000000;\n",
       "}\n",
       "#T_d516a_row3_col4, #T_d516a_row3_col6 {\n",
       "  background-color: #eff9eb;\n",
       "  color: #000000;\n",
       "}\n",
       "#T_d516a_row3_col5 {\n",
       "  background-color: #7ac77b;\n",
       "  color: #000000;\n",
       "}\n",
       "#T_d516a_row3_col7 {\n",
       "  background-color: #dff3da;\n",
       "  color: #000000;\n",
       "}\n",
       "#T_d516a_row3_col8, #T_d516a_row4_col12 {\n",
       "  background-color: #d5efcf;\n",
       "  color: #000000;\n",
       "}\n",
       "#T_d516a_row3_col9 {\n",
       "  background-color: #4db163;\n",
       "  color: #f1f1f1;\n",
       "}\n",
       "#T_d516a_row3_col10 {\n",
       "  background-color: #88ce87;\n",
       "  color: #000000;\n",
       "}\n",
       "#T_d516a_row3_col11 {\n",
       "  background-color: #d6efd0;\n",
       "  color: #000000;\n",
       "}\n",
       "#T_d516a_row3_col12, #T_d516a_row6_col11 {\n",
       "  background-color: #90d18d;\n",
       "  color: #000000;\n",
       "}\n",
       "#T_d516a_row3_col13, #T_d516a_row12_col0 {\n",
       "  background-color: #42ab5d;\n",
       "  color: #f1f1f1;\n",
       "}\n",
       "#T_d516a_row4_col0, #T_d516a_row5_col10 {\n",
       "  background-color: #7fc97f;\n",
       "  color: #000000;\n",
       "}\n",
       "#T_d516a_row4_col3, #T_d516a_row5_col12 {\n",
       "  background-color: #a2d99c;\n",
       "  color: #000000;\n",
       "}\n",
       "#T_d516a_row4_col6, #T_d516a_row9_col12 {\n",
       "  background-color: #91d28e;\n",
       "  color: #000000;\n",
       "}\n",
       "#T_d516a_row4_col7, #T_d516a_row12_col9 {\n",
       "  background-color: #78c679;\n",
       "  color: #000000;\n",
       "}\n",
       "#T_d516a_row4_col8 {\n",
       "  background-color: #ebf7e7;\n",
       "  color: #000000;\n",
       "}\n",
       "#T_d516a_row4_col10 {\n",
       "  background-color: #d3eecd;\n",
       "  color: #000000;\n",
       "}\n",
       "#T_d516a_row4_col11, #T_d516a_row12_col10 {\n",
       "  background-color: #bce4b5;\n",
       "  color: #000000;\n",
       "}\n",
       "#T_d516a_row4_col13 {\n",
       "  background-color: #a0d99b;\n",
       "  color: #000000;\n",
       "}\n",
       "#T_d516a_row5_col0 {\n",
       "  background-color: #38a156;\n",
       "  color: #f1f1f1;\n",
       "}\n",
       "#T_d516a_row5_col1, #T_d516a_row10_col5, #T_d516a_row12_col1, #T_d516a_row12_col13 {\n",
       "  background-color: #72c375;\n",
       "  color: #000000;\n",
       "}\n",
       "#T_d516a_row5_col4 {\n",
       "  background-color: #e5f5e0;\n",
       "  color: #000000;\n",
       "}\n",
       "#T_d516a_row5_col6 {\n",
       "  background-color: #9bd696;\n",
       "  color: #000000;\n",
       "}\n",
       "#T_d516a_row5_col7 {\n",
       "  background-color: #c6e8bf;\n",
       "  color: #000000;\n",
       "}\n",
       "#T_d516a_row5_col8, #T_d516a_row13_col4, #T_d516a_row13_col8 {\n",
       "  background-color: #e6f5e1;\n",
       "  color: #000000;\n",
       "}\n",
       "#T_d516a_row5_col9, #T_d516a_row8_col7 {\n",
       "  background-color: #7cc87c;\n",
       "  color: #000000;\n",
       "}\n",
       "#T_d516a_row5_col11, #T_d516a_row10_col4 {\n",
       "  background-color: #edf8ea;\n",
       "  color: #000000;\n",
       "}\n",
       "#T_d516a_row5_col13 {\n",
       "  background-color: #258d47;\n",
       "  color: #f1f1f1;\n",
       "}\n",
       "#T_d516a_row6_col0, #T_d516a_row11_col0 {\n",
       "  background-color: #b2e0ac;\n",
       "  color: #000000;\n",
       "}\n",
       "#T_d516a_row6_col2, #T_d516a_row6_col10, #T_d516a_row7_col5, #T_d516a_row11_col10 {\n",
       "  background-color: #f2faf0;\n",
       "  color: #000000;\n",
       "}\n",
       "#T_d516a_row6_col4, #T_d516a_row7_col3 {\n",
       "  background-color: #ecf8e8;\n",
       "  color: #000000;\n",
       "}\n",
       "#T_d516a_row6_col5, #T_d516a_row8_col10 {\n",
       "  background-color: #ceecc8;\n",
       "  color: #000000;\n",
       "}\n",
       "#T_d516a_row6_col7 {\n",
       "  background-color: #46ae60;\n",
       "  color: #f1f1f1;\n",
       "}\n",
       "#T_d516a_row6_col9, #T_d516a_row7_col4 {\n",
       "  background-color: #dbf1d6;\n",
       "  color: #000000;\n",
       "}\n",
       "#T_d516a_row6_col12 {\n",
       "  background-color: #dbf1d5;\n",
       "  color: #000000;\n",
       "}\n",
       "#T_d516a_row6_col13 {\n",
       "  background-color: #c8e9c1;\n",
       "  color: #000000;\n",
       "}\n",
       "#T_d516a_row7_col1 {\n",
       "  background-color: #b8e3b2;\n",
       "  color: #000000;\n",
       "}\n",
       "#T_d516a_row7_col2 {\n",
       "  background-color: #e9f7e5;\n",
       "  color: #000000;\n",
       "}\n",
       "#T_d516a_row7_col6 {\n",
       "  background-color: #4aaf61;\n",
       "  color: #f1f1f1;\n",
       "}\n",
       "#T_d516a_row7_col11 {\n",
       "  background-color: #75c477;\n",
       "  color: #000000;\n",
       "}\n",
       "#T_d516a_row8_col1 {\n",
       "  background-color: #68be70;\n",
       "  color: #000000;\n",
       "}\n",
       "#T_d516a_row8_col2, #T_d516a_row8_col4 {\n",
       "  background-color: #eff9ec;\n",
       "  color: #000000;\n",
       "}\n",
       "#T_d516a_row8_col5, #T_d516a_row11_col3 {\n",
       "  background-color: #c0e6b9;\n",
       "  color: #000000;\n",
       "}\n",
       "#T_d516a_row8_col6, #T_d516a_row8_col9, #T_d516a_row8_col13, #T_d516a_row12_col6 {\n",
       "  background-color: #a7dba0;\n",
       "  color: #000000;\n",
       "}\n",
       "#T_d516a_row8_col11 {\n",
       "  background-color: #cbebc5;\n",
       "  color: #000000;\n",
       "}\n",
       "#T_d516a_row9_col0 {\n",
       "  background-color: #18823d;\n",
       "  color: #f1f1f1;\n",
       "}\n",
       "#T_d516a_row9_col1 {\n",
       "  background-color: #45ad5f;\n",
       "  color: #f1f1f1;\n",
       "}\n",
       "#T_d516a_row9_col2 {\n",
       "  background-color: #e5f5e1;\n",
       "  color: #000000;\n",
       "}\n",
       "#T_d516a_row9_col3 {\n",
       "  background-color: #43ac5e;\n",
       "  color: #f1f1f1;\n",
       "}\n",
       "#T_d516a_row9_col4, #T_d516a_row9_col7, #T_d516a_row13_col7 {\n",
       "  background-color: #e4f5df;\n",
       "  color: #000000;\n",
       "}\n",
       "#T_d516a_row9_col5 {\n",
       "  background-color: #95d391;\n",
       "  color: #000000;\n",
       "}\n",
       "#T_d516a_row9_col6 {\n",
       "  background-color: #c4e8bd;\n",
       "  color: #000000;\n",
       "}\n",
       "#T_d516a_row9_col8, #T_d516a_row10_col8 {\n",
       "  background-color: #e7f6e2;\n",
       "  color: #000000;\n",
       "}\n",
       "#T_d516a_row9_col11 {\n",
       "  background-color: #c7e9c0;\n",
       "  color: #000000;\n",
       "}\n",
       "#T_d516a_row9_col13, #T_d516a_row13_col9 {\n",
       "  background-color: #66bd6f;\n",
       "  color: #f1f1f1;\n",
       "}\n",
       "#T_d516a_row10_col1 {\n",
       "  background-color: #5db96b;\n",
       "  color: #f1f1f1;\n",
       "}\n",
       "#T_d516a_row10_col2 {\n",
       "  background-color: #d8f0d2;\n",
       "  color: #000000;\n",
       "}\n",
       "#T_d516a_row10_col3 {\n",
       "  background-color: #5ab769;\n",
       "  color: #f1f1f1;\n",
       "}\n",
       "#T_d516a_row10_col6, #T_d516a_row11_col9 {\n",
       "  background-color: #bbe4b4;\n",
       "  color: #000000;\n",
       "}\n",
       "#T_d516a_row10_col7 {\n",
       "  background-color: #bee5b8;\n",
       "  color: #000000;\n",
       "}\n",
       "#T_d516a_row10_col11 {\n",
       "  background-color: #ddf2d8;\n",
       "  color: #000000;\n",
       "}\n",
       "#T_d516a_row10_col12 {\n",
       "  background-color: #b0dfaa;\n",
       "  color: #000000;\n",
       "}\n",
       "#T_d516a_row10_col13 {\n",
       "  background-color: #4bb062;\n",
       "  color: #f1f1f1;\n",
       "}\n",
       "#T_d516a_row11_col2 {\n",
       "  background-color: #e1f3dc;\n",
       "  color: #000000;\n",
       "}\n",
       "#T_d516a_row11_col4 {\n",
       "  background-color: #f1faee;\n",
       "  color: #000000;\n",
       "}\n",
       "#T_d516a_row11_col7 {\n",
       "  background-color: #52b365;\n",
       "  color: #f1f1f1;\n",
       "}\n",
       "#T_d516a_row11_col12 {\n",
       "  background-color: #c9eac2;\n",
       "  color: #000000;\n",
       "}\n",
       "#T_d516a_row11_col13 {\n",
       "  background-color: #f0f9ed;\n",
       "  color: #000000;\n",
       "}\n",
       "#T_d516a_row12_col3 {\n",
       "  background-color: #6abf71;\n",
       "  color: #000000;\n",
       "}\n",
       "#T_d516a_row12_col5 {\n",
       "  background-color: #9fd899;\n",
       "  color: #000000;\n",
       "}\n",
       "#T_d516a_row13_col0 {\n",
       "  background-color: #1f8742;\n",
       "  color: #f1f1f1;\n",
       "}\n",
       "#T_d516a_row13_col1 {\n",
       "  background-color: #65bd6f;\n",
       "  color: #f1f1f1;\n",
       "}\n",
       "#T_d516a_row13_col2 {\n",
       "  background-color: #f0f9ec;\n",
       "  color: #000000;\n",
       "}\n",
       "#T_d516a_row13_col3 {\n",
       "  background-color: #3ca559;\n",
       "  color: #f1f1f1;\n",
       "}\n",
       "#T_d516a_row13_col5 {\n",
       "  background-color: #2e964d;\n",
       "  color: #f1f1f1;\n",
       "}\n",
       "#T_d516a_row13_col10 {\n",
       "  background-color: #6dc072;\n",
       "  color: #000000;\n",
       "}\n",
       "#T_d516a_row13_col12 {\n",
       "  background-color: #8bcf89;\n",
       "  color: #000000;\n",
       "}\n",
       "</style>\n",
       "<table id=\"T_d516a\">\n",
       "  <thead>\n",
       "    <tr>\n",
       "      <th class=\"blank level0\" >&nbsp;</th>\n",
       "      <th id=\"T_d516a_level0_col0\" class=\"col_heading level0 col0\" >danceability</th>\n",
       "      <th id=\"T_d516a_level0_col1\" class=\"col_heading level0 col1\" >energy</th>\n",
       "      <th id=\"T_d516a_level0_col2\" class=\"col_heading level0 col2\" >key</th>\n",
       "      <th id=\"T_d516a_level0_col3\" class=\"col_heading level0 col3\" >loudness</th>\n",
       "      <th id=\"T_d516a_level0_col4\" class=\"col_heading level0 col4\" >mode</th>\n",
       "      <th id=\"T_d516a_level0_col5\" class=\"col_heading level0 col5\" >speechiness</th>\n",
       "      <th id=\"T_d516a_level0_col6\" class=\"col_heading level0 col6\" >acousticness</th>\n",
       "      <th id=\"T_d516a_level0_col7\" class=\"col_heading level0 col7\" >instrumentalness</th>\n",
       "      <th id=\"T_d516a_level0_col8\" class=\"col_heading level0 col8\" >liveness</th>\n",
       "      <th id=\"T_d516a_level0_col9\" class=\"col_heading level0 col9\" >valence</th>\n",
       "      <th id=\"T_d516a_level0_col10\" class=\"col_heading level0 col10\" >tempo</th>\n",
       "      <th id=\"T_d516a_level0_col11\" class=\"col_heading level0 col11\" >duration_ms</th>\n",
       "      <th id=\"T_d516a_level0_col12\" class=\"col_heading level0 col12\" >time_signature</th>\n",
       "      <th id=\"T_d516a_level0_col13\" class=\"col_heading level0 col13\" >liked</th>\n",
       "    </tr>\n",
       "  </thead>\n",
       "  <tbody>\n",
       "    <tr>\n",
       "      <th id=\"T_d516a_level0_row0\" class=\"row_heading level0 row0\" >danceability</th>\n",
       "      <td id=\"T_d516a_row0_col0\" class=\"data row0 col0\" >1.000000</td>\n",
       "      <td id=\"T_d516a_row0_col1\" class=\"data row0 col1\" >0.137188</td>\n",
       "      <td id=\"T_d516a_row0_col2\" class=\"data row0 col2\" >-0.063906</td>\n",
       "      <td id=\"T_d516a_row0_col3\" class=\"data row0 col3\" >0.455078</td>\n",
       "      <td id=\"T_d516a_row0_col4\" class=\"data row0 col4\" >0.043759</td>\n",
       "      <td id=\"T_d516a_row0_col5\" class=\"data row0 col5\" >0.388596</td>\n",
       "      <td id=\"T_d516a_row0_col6\" class=\"data row0 col6\" >-0.234176</td>\n",
       "      <td id=\"T_d516a_row0_col7\" class=\"data row0 col7\" >-0.807053</td>\n",
       "      <td id=\"T_d516a_row0_col8\" class=\"data row0 col8\" >-0.137069</td>\n",
       "      <td id=\"T_d516a_row0_col9\" class=\"data row0 col9\" >0.612344</td>\n",
       "      <td id=\"T_d516a_row0_col10\" class=\"data row0 col10\" >0.223522</td>\n",
       "      <td id=\"T_d516a_row0_col11\" class=\"data row0 col11\" >-0.232621</td>\n",
       "      <td id=\"T_d516a_row0_col12\" class=\"data row0 col12\" >0.317096</td>\n",
       "      <td id=\"T_d516a_row0_col13\" class=\"data row0 col13\" >0.569425</td>\n",
       "    </tr>\n",
       "    <tr>\n",
       "      <th id=\"T_d516a_level0_row1\" class=\"row_heading level0 row1\" >energy</th>\n",
       "      <td id=\"T_d516a_row1_col0\" class=\"data row1 col0\" >0.137188</td>\n",
       "      <td id=\"T_d516a_row1_col1\" class=\"data row1 col1\" >1.000000</td>\n",
       "      <td id=\"T_d516a_row1_col2\" class=\"data row1 col2\" >0.130251</td>\n",
       "      <td id=\"T_d516a_row1_col3\" class=\"data row1 col3\" >0.813567</td>\n",
       "      <td id=\"T_d516a_row1_col4\" class=\"data row1 col4\" >-0.068308</td>\n",
       "      <td id=\"T_d516a_row1_col5\" class=\"data row1 col5\" >0.122825</td>\n",
       "      <td id=\"T_d516a_row1_col6\" class=\"data row1 col6\" >-0.772583</td>\n",
       "      <td id=\"T_d516a_row1_col7\" class=\"data row1 col7\" >-0.241444</td>\n",
       "      <td id=\"T_d516a_row1_col8\" class=\"data row1 col8\" >0.166508</td>\n",
       "      <td id=\"T_d516a_row1_col9\" class=\"data row1 col9\" >0.319409</td>\n",
       "      <td id=\"T_d516a_row1_col10\" class=\"data row1 col10\" >0.214905</td>\n",
       "      <td id=\"T_d516a_row1_col11\" class=\"data row1 col11\" >-0.134527</td>\n",
       "      <td id=\"T_d516a_row1_col12\" class=\"data row1 col12\" >0.123942</td>\n",
       "      <td id=\"T_d516a_row1_col13\" class=\"data row1 col13\" >0.176179</td>\n",
       "    </tr>\n",
       "    <tr>\n",
       "      <th id=\"T_d516a_level0_row2\" class=\"row_heading level0 row2\" >key</th>\n",
       "      <td id=\"T_d516a_row2_col0\" class=\"data row2 col0\" >-0.063906</td>\n",
       "      <td id=\"T_d516a_row2_col1\" class=\"data row2 col1\" >0.130251</td>\n",
       "      <td id=\"T_d516a_row2_col2\" class=\"data row2 col2\" >1.000000</td>\n",
       "      <td id=\"T_d516a_row2_col3\" class=\"data row2 col3\" >0.046865</td>\n",
       "      <td id=\"T_d516a_row2_col4\" class=\"data row2 col4\" >-0.103371</td>\n",
       "      <td id=\"T_d516a_row2_col5\" class=\"data row2 col5\" >-0.093395</td>\n",
       "      <td id=\"T_d516a_row2_col6\" class=\"data row2 col6\" >-0.066844</td>\n",
       "      <td id=\"T_d516a_row2_col7\" class=\"data row2 col7\" >0.003597</td>\n",
       "      <td id=\"T_d516a_row2_col8\" class=\"data row2 col8\" >-0.039622</td>\n",
       "      <td id=\"T_d516a_row2_col9\" class=\"data row2 col9\" >0.033336</td>\n",
       "      <td id=\"T_d516a_row2_col10\" class=\"data row2 col10\" >0.097240</td>\n",
       "      <td id=\"T_d516a_row2_col11\" class=\"data row2 col11\" >0.054522</td>\n",
       "      <td id=\"T_d516a_row2_col12\" class=\"data row2 col12\" >0.048344</td>\n",
       "      <td id=\"T_d516a_row2_col13\" class=\"data row2 col13\" >-0.044406</td>\n",
       "    </tr>\n",
       "    <tr>\n",
       "      <th id=\"T_d516a_level0_row3\" class=\"row_heading level0 row3\" >loudness</th>\n",
       "      <td id=\"T_d516a_row3_col0\" class=\"data row3 col0\" >0.455078</td>\n",
       "      <td id=\"T_d516a_row3_col1\" class=\"data row3 col1\" >0.813567</td>\n",
       "      <td id=\"T_d516a_row3_col2\" class=\"data row3 col2\" >0.046865</td>\n",
       "      <td id=\"T_d516a_row3_col3\" class=\"data row3 col3\" >1.000000</td>\n",
       "      <td id=\"T_d516a_row3_col4\" class=\"data row3 col4\" >-0.041678</td>\n",
       "      <td id=\"T_d516a_row3_col5\" class=\"data row3 col5\" >0.279710</td>\n",
       "      <td id=\"T_d516a_row3_col6\" class=\"data row3 col6\" >-0.664989</td>\n",
       "      <td id=\"T_d516a_row3_col7\" class=\"data row3 col7\" >-0.538266</td>\n",
       "      <td id=\"T_d516a_row3_col8\" class=\"data row3 col8\" >0.078093</td>\n",
       "      <td id=\"T_d516a_row3_col9\" class=\"data row3 col9\" >0.363532</td>\n",
       "      <td id=\"T_d516a_row3_col10\" class=\"data row3 col10\" >0.274462</td>\n",
       "      <td id=\"T_d516a_row3_col11\" class=\"data row3 col11\" >-0.206334</td>\n",
       "      <td id=\"T_d516a_row3_col12\" class=\"data row3 col12\" >0.207806</td>\n",
       "      <td id=\"T_d516a_row3_col13\" class=\"data row3 col13\" >0.410774</td>\n",
       "    </tr>\n",
       "    <tr>\n",
       "      <th id=\"T_d516a_level0_row4\" class=\"row_heading level0 row4\" >mode</th>\n",
       "      <td id=\"T_d516a_row4_col0\" class=\"data row4 col0\" >0.043759</td>\n",
       "      <td id=\"T_d516a_row4_col1\" class=\"data row4 col1\" >-0.068308</td>\n",
       "      <td id=\"T_d516a_row4_col2\" class=\"data row4 col2\" >-0.103371</td>\n",
       "      <td id=\"T_d516a_row4_col3\" class=\"data row4 col3\" >-0.041678</td>\n",
       "      <td id=\"T_d516a_row4_col4\" class=\"data row4 col4\" >1.000000</td>\n",
       "      <td id=\"T_d516a_row4_col5\" class=\"data row4 col5\" >0.031953</td>\n",
       "      <td id=\"T_d516a_row4_col6\" class=\"data row4 col6\" >-0.025709</td>\n",
       "      <td id=\"T_d516a_row4_col7\" class=\"data row4 col7\" >0.075442</td>\n",
       "      <td id=\"T_d516a_row4_col8\" class=\"data row4 col8\" >-0.048661</td>\n",
       "      <td id=\"T_d516a_row4_col9\" class=\"data row4 col9\" >0.033409</td>\n",
       "      <td id=\"T_d516a_row4_col10\" class=\"data row4 col10\" >-0.036270</td>\n",
       "      <td id=\"T_d516a_row4_col11\" class=\"data row4 col11\" >-0.060965</td>\n",
       "      <td id=\"T_d516a_row4_col12\" class=\"data row4 col12\" >-0.110739</td>\n",
       "      <td id=\"T_d516a_row4_col13\" class=\"data row4 col13\" >0.023747</td>\n",
       "    </tr>\n",
       "    <tr>\n",
       "      <th id=\"T_d516a_level0_row5\" class=\"row_heading level0 row5\" >speechiness</th>\n",
       "      <td id=\"T_d516a_row5_col0\" class=\"data row5 col0\" >0.388596</td>\n",
       "      <td id=\"T_d516a_row5_col1\" class=\"data row5 col1\" >0.122825</td>\n",
       "      <td id=\"T_d516a_row5_col2\" class=\"data row5 col2\" >-0.093395</td>\n",
       "      <td id=\"T_d516a_row5_col3\" class=\"data row5 col3\" >0.279710</td>\n",
       "      <td id=\"T_d516a_row5_col4\" class=\"data row5 col4\" >0.031953</td>\n",
       "      <td id=\"T_d516a_row5_col5\" class=\"data row5 col5\" >1.000000</td>\n",
       "      <td id=\"T_d516a_row5_col6\" class=\"data row5 col6\" >-0.079710</td>\n",
       "      <td id=\"T_d516a_row5_col7\" class=\"data row5 col7\" >-0.343242</td>\n",
       "      <td id=\"T_d516a_row5_col8\" class=\"data row5 col8\" >-0.006665</td>\n",
       "      <td id=\"T_d516a_row5_col9\" class=\"data row5 col9\" >0.180708</td>\n",
       "      <td id=\"T_d516a_row5_col10\" class=\"data row5 col10\" >0.313918</td>\n",
       "      <td id=\"T_d516a_row5_col11\" class=\"data row5 col11\" >-0.388397</td>\n",
       "      <td id=\"T_d516a_row5_col12\" class=\"data row5 col12\" >0.140325</td>\n",
       "      <td id=\"T_d516a_row5_col13\" class=\"data row5 col13\" >0.591505</td>\n",
       "    </tr>\n",
       "    <tr>\n",
       "      <th id=\"T_d516a_level0_row6\" class=\"row_heading level0 row6\" >acousticness</th>\n",
       "      <td id=\"T_d516a_row6_col0\" class=\"data row6 col0\" >-0.234176</td>\n",
       "      <td id=\"T_d516a_row6_col1\" class=\"data row6 col1\" >-0.772583</td>\n",
       "      <td id=\"T_d516a_row6_col2\" class=\"data row6 col2\" >-0.066844</td>\n",
       "      <td id=\"T_d516a_row6_col3\" class=\"data row6 col3\" >-0.664989</td>\n",
       "      <td id=\"T_d516a_row6_col4\" class=\"data row6 col4\" >-0.025709</td>\n",
       "      <td id=\"T_d516a_row6_col5\" class=\"data row6 col5\" >-0.079710</td>\n",
       "      <td id=\"T_d516a_row6_col6\" class=\"data row6 col6\" >1.000000</td>\n",
       "      <td id=\"T_d516a_row6_col7\" class=\"data row6 col7\" >0.294320</td>\n",
       "      <td id=\"T_d516a_row6_col8\" class=\"data row6 col8\" >-0.140988</td>\n",
       "      <td id=\"T_d516a_row6_col9\" class=\"data row6 col9\" >-0.313806</td>\n",
       "      <td id=\"T_d516a_row6_col10\" class=\"data row6 col10\" >-0.255097</td>\n",
       "      <td id=\"T_d516a_row6_col11\" class=\"data row6 col11\" >0.138793</td>\n",
       "      <td id=\"T_d516a_row6_col12\" class=\"data row6 col12\" >-0.142177</td>\n",
       "      <td id=\"T_d516a_row6_col13\" class=\"data row6 col13\" >-0.179375</td>\n",
       "    </tr>\n",
       "    <tr>\n",
       "      <th id=\"T_d516a_level0_row7\" class=\"row_heading level0 row7\" >instrumentalness</th>\n",
       "      <td id=\"T_d516a_row7_col0\" class=\"data row7 col0\" >-0.807053</td>\n",
       "      <td id=\"T_d516a_row7_col1\" class=\"data row7 col1\" >-0.241444</td>\n",
       "      <td id=\"T_d516a_row7_col2\" class=\"data row7 col2\" >0.003597</td>\n",
       "      <td id=\"T_d516a_row7_col3\" class=\"data row7 col3\" >-0.538266</td>\n",
       "      <td id=\"T_d516a_row7_col4\" class=\"data row7 col4\" >0.075442</td>\n",
       "      <td id=\"T_d516a_row7_col5\" class=\"data row7 col5\" >-0.343242</td>\n",
       "      <td id=\"T_d516a_row7_col6\" class=\"data row7 col6\" >0.294320</td>\n",
       "      <td id=\"T_d516a_row7_col7\" class=\"data row7 col7\" >1.000000</td>\n",
       "      <td id=\"T_d516a_row7_col8\" class=\"data row7 col8\" >0.055730</td>\n",
       "      <td id=\"T_d516a_row7_col9\" class=\"data row7 col9\" >-0.572224</td>\n",
       "      <td id=\"T_d516a_row7_col10\" class=\"data row7 col10\" >-0.299493</td>\n",
       "      <td id=\"T_d516a_row7_col11\" class=\"data row7 col11\" >0.249683</td>\n",
       "      <td id=\"T_d516a_row7_col12\" class=\"data row7 col12\" >-0.375199</td>\n",
       "      <td id=\"T_d516a_row7_col13\" class=\"data row7 col13\" >-0.569440</td>\n",
       "    </tr>\n",
       "    <tr>\n",
       "      <th id=\"T_d516a_level0_row8\" class=\"row_heading level0 row8\" >liveness</th>\n",
       "      <td id=\"T_d516a_row8_col0\" class=\"data row8 col0\" >-0.137069</td>\n",
       "      <td id=\"T_d516a_row8_col1\" class=\"data row8 col1\" >0.166508</td>\n",
       "      <td id=\"T_d516a_row8_col2\" class=\"data row8 col2\" >-0.039622</td>\n",
       "      <td id=\"T_d516a_row8_col3\" class=\"data row8 col3\" >0.078093</td>\n",
       "      <td id=\"T_d516a_row8_col4\" class=\"data row8 col4\" >-0.048661</td>\n",
       "      <td id=\"T_d516a_row8_col5\" class=\"data row8 col5\" >-0.006665</td>\n",
       "      <td id=\"T_d516a_row8_col6\" class=\"data row8 col6\" >-0.140988</td>\n",
       "      <td id=\"T_d516a_row8_col7\" class=\"data row8 col7\" >0.055730</td>\n",
       "      <td id=\"T_d516a_row8_col8\" class=\"data row8 col8\" >1.000000</td>\n",
       "      <td id=\"T_d516a_row8_col9\" class=\"data row8 col9\" >-0.013004</td>\n",
       "      <td id=\"T_d516a_row8_col10\" class=\"data row8 col10\" >-0.010555</td>\n",
       "      <td id=\"T_d516a_row8_col11\" class=\"data row8 col11\" >-0.143966</td>\n",
       "      <td id=\"T_d516a_row8_col12\" class=\"data row8 col12\" >-0.135409</td>\n",
       "      <td id=\"T_d516a_row8_col13\" class=\"data row8 col13\" >-0.009797</td>\n",
       "    </tr>\n",
       "    <tr>\n",
       "      <th id=\"T_d516a_level0_row9\" class=\"row_heading level0 row9\" >valence</th>\n",
       "      <td id=\"T_d516a_row9_col0\" class=\"data row9 col0\" >0.612344</td>\n",
       "      <td id=\"T_d516a_row9_col1\" class=\"data row9 col1\" >0.319409</td>\n",
       "      <td id=\"T_d516a_row9_col2\" class=\"data row9 col2\" >0.033336</td>\n",
       "      <td id=\"T_d516a_row9_col3\" class=\"data row9 col3\" >0.363532</td>\n",
       "      <td id=\"T_d516a_row9_col4\" class=\"data row9 col4\" >0.033409</td>\n",
       "      <td id=\"T_d516a_row9_col5\" class=\"data row9 col5\" >0.180708</td>\n",
       "      <td id=\"T_d516a_row9_col6\" class=\"data row9 col6\" >-0.313806</td>\n",
       "      <td id=\"T_d516a_row9_col7\" class=\"data row9 col7\" >-0.572224</td>\n",
       "      <td id=\"T_d516a_row9_col8\" class=\"data row9 col8\" >-0.013004</td>\n",
       "      <td id=\"T_d516a_row9_col9\" class=\"data row9 col9\" >1.000000</td>\n",
       "      <td id=\"T_d516a_row9_col10\" class=\"data row9 col10\" >0.218017</td>\n",
       "      <td id=\"T_d516a_row9_col11\" class=\"data row9 col11\" >-0.114842</td>\n",
       "      <td id=\"T_d516a_row9_col12\" class=\"data row9 col12\" >0.201111</td>\n",
       "      <td id=\"T_d516a_row9_col13\" class=\"data row9 col13\" >0.268653</td>\n",
       "    </tr>\n",
       "    <tr>\n",
       "      <th id=\"T_d516a_level0_row10\" class=\"row_heading level0 row10\" >tempo</th>\n",
       "      <td id=\"T_d516a_row10_col0\" class=\"data row10 col0\" >0.223522</td>\n",
       "      <td id=\"T_d516a_row10_col1\" class=\"data row10 col1\" >0.214905</td>\n",
       "      <td id=\"T_d516a_row10_col2\" class=\"data row10 col2\" >0.097240</td>\n",
       "      <td id=\"T_d516a_row10_col3\" class=\"data row10 col3\" >0.274462</td>\n",
       "      <td id=\"T_d516a_row10_col4\" class=\"data row10 col4\" >-0.036270</td>\n",
       "      <td id=\"T_d516a_row10_col5\" class=\"data row10 col5\" >0.313918</td>\n",
       "      <td id=\"T_d516a_row10_col6\" class=\"data row10 col6\" >-0.255097</td>\n",
       "      <td id=\"T_d516a_row10_col7\" class=\"data row10 col7\" >-0.299493</td>\n",
       "      <td id=\"T_d516a_row10_col8\" class=\"data row10 col8\" >-0.010555</td>\n",
       "      <td id=\"T_d516a_row10_col9\" class=\"data row10 col9\" >0.218017</td>\n",
       "      <td id=\"T_d516a_row10_col10\" class=\"data row10 col10\" >1.000000</td>\n",
       "      <td id=\"T_d516a_row10_col11\" class=\"data row10 col11\" >-0.256250</td>\n",
       "      <td id=\"T_d516a_row10_col12\" class=\"data row10 col12\" >0.071754</td>\n",
       "      <td id=\"T_d516a_row10_col13\" class=\"data row10 col13\" >0.371202</td>\n",
       "    </tr>\n",
       "    <tr>\n",
       "      <th id=\"T_d516a_level0_row11\" class=\"row_heading level0 row11\" >duration_ms</th>\n",
       "      <td id=\"T_d516a_row11_col0\" class=\"data row11 col0\" >-0.232621</td>\n",
       "      <td id=\"T_d516a_row11_col1\" class=\"data row11 col1\" >-0.134527</td>\n",
       "      <td id=\"T_d516a_row11_col2\" class=\"data row11 col2\" >0.054522</td>\n",
       "      <td id=\"T_d516a_row11_col3\" class=\"data row11 col3\" >-0.206334</td>\n",
       "      <td id=\"T_d516a_row11_col4\" class=\"data row11 col4\" >-0.060965</td>\n",
       "      <td id=\"T_d516a_row11_col5\" class=\"data row11 col5\" >-0.388397</td>\n",
       "      <td id=\"T_d516a_row11_col6\" class=\"data row11 col6\" >0.138793</td>\n",
       "      <td id=\"T_d516a_row11_col7\" class=\"data row11 col7\" >0.249683</td>\n",
       "      <td id=\"T_d516a_row11_col8\" class=\"data row11 col8\" >-0.143966</td>\n",
       "      <td id=\"T_d516a_row11_col9\" class=\"data row11 col9\" >-0.114842</td>\n",
       "      <td id=\"T_d516a_row11_col10\" class=\"data row11 col10\" >-0.256250</td>\n",
       "      <td id=\"T_d516a_row11_col11\" class=\"data row11 col11\" >1.000000</td>\n",
       "      <td id=\"T_d516a_row11_col12\" class=\"data row11 col12\" >-0.039078</td>\n",
       "      <td id=\"T_d516a_row11_col13\" class=\"data row11 col13\" >-0.490651</td>\n",
       "    </tr>\n",
       "    <tr>\n",
       "      <th id=\"T_d516a_level0_row12\" class=\"row_heading level0 row12\" >time_signature</th>\n",
       "      <td id=\"T_d516a_row12_col0\" class=\"data row12 col0\" >0.317096</td>\n",
       "      <td id=\"T_d516a_row12_col1\" class=\"data row12 col1\" >0.123942</td>\n",
       "      <td id=\"T_d516a_row12_col2\" class=\"data row12 col2\" >0.048344</td>\n",
       "      <td id=\"T_d516a_row12_col3\" class=\"data row12 col3\" >0.207806</td>\n",
       "      <td id=\"T_d516a_row12_col4\" class=\"data row12 col4\" >-0.110739</td>\n",
       "      <td id=\"T_d516a_row12_col5\" class=\"data row12 col5\" >0.140325</td>\n",
       "      <td id=\"T_d516a_row12_col6\" class=\"data row12 col6\" >-0.142177</td>\n",
       "      <td id=\"T_d516a_row12_col7\" class=\"data row12 col7\" >-0.375199</td>\n",
       "      <td id=\"T_d516a_row12_col8\" class=\"data row12 col8\" >-0.135409</td>\n",
       "      <td id=\"T_d516a_row12_col9\" class=\"data row12 col9\" >0.201111</td>\n",
       "      <td id=\"T_d516a_row12_col10\" class=\"data row12 col10\" >0.071754</td>\n",
       "      <td id=\"T_d516a_row12_col11\" class=\"data row12 col11\" >-0.039078</td>\n",
       "      <td id=\"T_d516a_row12_col12\" class=\"data row12 col12\" >1.000000</td>\n",
       "      <td id=\"T_d516a_row12_col13\" class=\"data row12 col13\" >0.221479</td>\n",
       "    </tr>\n",
       "    <tr>\n",
       "      <th id=\"T_d516a_level0_row13\" class=\"row_heading level0 row13\" >liked</th>\n",
       "      <td id=\"T_d516a_row13_col0\" class=\"data row13 col0\" >0.569425</td>\n",
       "      <td id=\"T_d516a_row13_col1\" class=\"data row13 col1\" >0.176179</td>\n",
       "      <td id=\"T_d516a_row13_col2\" class=\"data row13 col2\" >-0.044406</td>\n",
       "      <td id=\"T_d516a_row13_col3\" class=\"data row13 col3\" >0.410774</td>\n",
       "      <td id=\"T_d516a_row13_col4\" class=\"data row13 col4\" >0.023747</td>\n",
       "      <td id=\"T_d516a_row13_col5\" class=\"data row13 col5\" >0.591505</td>\n",
       "      <td id=\"T_d516a_row13_col6\" class=\"data row13 col6\" >-0.179375</td>\n",
       "      <td id=\"T_d516a_row13_col7\" class=\"data row13 col7\" >-0.569440</td>\n",
       "      <td id=\"T_d516a_row13_col8\" class=\"data row13 col8\" >-0.009797</td>\n",
       "      <td id=\"T_d516a_row13_col9\" class=\"data row13 col9\" >0.268653</td>\n",
       "      <td id=\"T_d516a_row13_col10\" class=\"data row13 col10\" >0.371202</td>\n",
       "      <td id=\"T_d516a_row13_col11\" class=\"data row13 col11\" >-0.490651</td>\n",
       "      <td id=\"T_d516a_row13_col12\" class=\"data row13 col12\" >0.221479</td>\n",
       "      <td id=\"T_d516a_row13_col13\" class=\"data row13 col13\" >1.000000</td>\n",
       "    </tr>\n",
       "  </tbody>\n",
       "</table>\n"
      ],
      "text/plain": [
       "<pandas.io.formats.style.Styler at 0x23ecf4e0790>"
      ]
     },
     "execution_count": 25,
     "metadata": {},
     "output_type": "execute_result"
    }
   ],
   "source": [
    "data.corr().style.background_gradient(cmap='Greens')"
   ]
  },
  {
   "cell_type": "markdown",
   "id": "f0207b40",
   "metadata": {},
   "source": [
    "Observations:\n",
    "\n",
    "The user's data has to be compared against the 'liked' variable compared to all the other colums to discern his/her taste.\n",
    "\n",
    "Following this, we can make these observations:\n",
    "\n",
    "1) User likes songs with high danceability, speechiness and loudness\n",
    "\n",
    "2) User has an aversion to songs with acousticness, instrumentalness \n",
    "\n",
    "3) User does not like long songs\n"
   ]
  },
  {
   "cell_type": "code",
   "execution_count": 27,
   "id": "11c6775e",
   "metadata": {},
   "outputs": [],
   "source": [
    "#dividing the liked column based on likes and dislikes\n",
    "\n",
    "liked = data['liked'] == 1\n",
    "disliked = data['liked'] == 0\n",
    "liked_songs = data[liked]\n",
    "disliked_songs = data[disliked]"
   ]
  },
  {
   "cell_type": "markdown",
   "id": "c9b9eaef",
   "metadata": {},
   "source": [
    "Point of action after dividing datasets:\n",
    "\n",
    "1) Comparison of speechiness between liked and disliked songs\n",
    "\n",
    "2) Comparison of danceability between liked and disliked songs\n",
    "\n",
    "3) Comparison of loudness between liked and disliked songs\n",
    "\n",
    "4) Comparison of acousticness between liked and disliked songs\n",
    "\n",
    "5) Comparison of instrumentalness between liked and disliked songs"
   ]
  },
  {
   "cell_type": "code",
   "execution_count": 28,
   "id": "c06b1289",
   "metadata": {},
   "outputs": [
    {
     "data": {
      "text/plain": [
       "<matplotlib.legend.Legend at 0x23ecfd2d0a0>"
      ]
     },
     "execution_count": 28,
     "metadata": {},
     "output_type": "execute_result"
    },
    {
     "data": {
      "image/png": "[encoded data removed]",
      "text/plain": [
       "<Figure size 576x432 with 1 Axes>"
      ]
     },
     "metadata": {
      "needs_background": "light"
     },
     "output_type": "display_data"
    }
   ],
   "source": [
    "#Comparison of speechiness between liked and disliked songs\n",
    "\n",
    "plt.figure(figsize=(8,6))\n",
    "plt.hist(liked_songs['speechiness'], alpha=0.5, label=\"liked songs\")\n",
    "plt.hist(disliked_songs['speechiness'], alpha=0.5, label=\"disliked songs\")\n",
    "\n",
    "plt.xlabel(\"Speechiness\", size=14)\n",
    "plt.ylabel(\"Count\", size=14)\n",
    "plt.title(\"Comparison of speechiness between liked and disliked songs\")\n",
    "plt.legend(loc='upper right')"
   ]
  },
  {
   "cell_type": "code",
   "execution_count": 29,
   "id": "3f0f13b9",
   "metadata": {},
   "outputs": [
    {
     "data": {
      "text/plain": [
       "<matplotlib.legend.Legend at 0x23ecfdb1fd0>"
      ]
     },
     "execution_count": 29,
     "metadata": {},
     "output_type": "execute_result"
    },
    {
     "data": {
      "image/png": "[encoded data removed]",
      "text/plain": [
       "<Figure size 576x432 with 1 Axes>"
      ]
     },
     "metadata": {
      "needs_background": "light"
     },
     "output_type": "display_data"
    }
   ],
   "source": [
    "#Comparison of danceability between liked and disliked songs\n",
    "\n",
    "plt.figure(figsize=(8,6))\n",
    "plt.hist(liked_songs['danceability'], alpha=0.5, label=\"liked songs\")\n",
    "plt.hist(disliked_songs['danceability'], alpha=0.5, label=\"disliked songs\")\n",
    "\n",
    "plt.xlabel(\"Danceability\", size=14)\n",
    "plt.ylabel(\"Count\", size=14)\n",
    "plt.title(\"Comparison of danceability between liked and disliked songs\")\n",
    "plt.legend(loc='upper right')"
   ]
  },
  {
   "cell_type": "code",
   "execution_count": 30,
   "id": "9047d49d",
   "metadata": {},
   "outputs": [
    {
     "data": {
      "text/plain": [
       "<matplotlib.legend.Legend at 0x23ecfe42e80>"
      ]
     },
     "execution_count": 30,
     "metadata": {},
     "output_type": "execute_result"
    },
    {
     "data": {
      "image/png": "[encoded data removed]",
      "text/plain": [
       "<Figure size 576x432 with 1 Axes>"
      ]
     },
     "metadata": {
      "needs_background": "light"
     },
     "output_type": "display_data"
    }
   ],
   "source": [
    "#Comparison of loudness between liked and disliked songs\n",
    "\n",
    "plt.figure(figsize=(8,6))\n",
    "plt.hist(liked_songs['loudness'], alpha=0.5, label=\"liked songs\")\n",
    "plt.hist(disliked_songs['loudness'], alpha=0.5, label=\"disliked songs\")\n",
    "\n",
    "plt.xlabel(\"Loudness\", size=14)\n",
    "plt.ylabel(\"Count\", size=14)\n",
    "plt.title(\"Comparison of loudness between liked and disliked songs\")\n",
    "plt.legend(loc='upper right')"
   ]
  },
  {
   "cell_type": "code",
   "execution_count": 31,
   "id": "f2564e8d",
   "metadata": {},
   "outputs": [
    {
     "data": {
      "text/plain": [
       "<matplotlib.legend.Legend at 0x23ecfed9d90>"
      ]
     },
     "execution_count": 31,
     "metadata": {},
     "output_type": "execute_result"
    },
    {
     "data": {
      "image/png": "[encoded data removed]",
      "text/plain": [
       "<Figure size 576x432 with 1 Axes>"
      ]
     },
     "metadata": {
      "needs_background": "light"
     },
     "output_type": "display_data"
    }
   ],
   "source": [
    "#Comparison of acousticness between liked and disliked songs\n",
    "\n",
    "plt.figure(figsize=(8,6))\n",
    "plt.hist(liked_songs['acousticness'], alpha=0.5, label=\"liked songs\")\n",
    "plt.hist(disliked_songs['acousticness'], alpha=0.5, label=\"disliked songs\")\n",
    "\n",
    "plt.xlabel(\"Acousticness\", size=14)\n",
    "plt.ylabel(\"Count\", size=14)\n",
    "plt.title(\"Comparison of acousticness between liked and disliked songs\")\n",
    "plt.legend(loc='upper right')"
   ]
  },
  {
   "cell_type": "code",
   "execution_count": 32,
   "id": "47f48f58",
   "metadata": {},
   "outputs": [
    {
     "data": {
      "text/plain": [
       "<matplotlib.legend.Legend at 0x23ecff3edc0>"
      ]
     },
     "execution_count": 32,
     "metadata": {},
     "output_type": "execute_result"
    },
    {
     "data": {
      "image/png": "[encoded data removed]",
      "text/plain": [
       "<Figure size 576x432 with 1 Axes>"
      ]
     },
     "metadata": {
      "needs_background": "light"
     },
     "output_type": "display_data"
    }
   ],
   "source": [
    "#Comparison of instrumentalness between liked and disliked songs\n",
    "\n",
    "plt.figure(figsize=(8,6))\n",
    "plt.hist(liked_songs['instrumentalness'], alpha=0.5, label=\"liked songs\")\n",
    "plt.hist(disliked_songs['instrumentalness'], alpha=0.5, label=\"disliked songs\")\n",
    "\n",
    "plt.xlabel(\"Instrumentalness\", size=14)\n",
    "plt.ylabel(\"Count\", size=14)\n",
    "plt.title(\"Comparison of instrumentalness between liked and disliked songs\")\n",
    "plt.legend(loc='upper right')"
   ]
  },
  {
   "cell_type": "code",
   "execution_count": 34,
   "id": "c05fc467",
   "metadata": {},
   "outputs": [
    {
     "data": {
      "text/plain": [
       "<AxesSubplot:title={'center':'Distribution of likes among songs with high speechiness and danceability'}>"
      ]
     },
     "execution_count": 34,
     "metadata": {},
     "output_type": "execute_result"
    },
    {
     "data": {
      "image/png": "[encoded data removed]",
      "text/plain": [
       "<Figure size 432x288 with 1 Axes>"
      ]
     },
     "metadata": {
      "needs_background": "light"
     },
     "output_type": "display_data"
    }
   ],
   "source": [
    "high_speechiness = data['speechiness'] > 0.3 \n",
    "high_danceability = data['danceability'] > 0.6\n",
    "\n",
    "songs_with_high_dance_and_speech = data[high_speechiness & high_danceability]\n",
    "\n",
    "plt.title(\"Distribution of likes among songs with high speechiness and danceability\")\n",
    "songs_with_high_dance_and_speech['liked'].value_counts().sort_values().plot(kind = 'barh')"
   ]
  },
  {
   "cell_type": "code",
   "execution_count": 38,
   "id": "fe156310",
   "metadata": {},
   "outputs": [
    {
     "data": {
      "text/plain": [
       "<AxesSubplot:title={'center':'Distribution of likes among songs with low acousticness and instrumentalness'}>"
      ]
     },
     "execution_count": 38,
     "metadata": {},
     "output_type": "execute_result"
    },
    {
     "data": {
      "image/png": "[encoded data removed]",
      "text/plain": [
       "<Figure size 432x288 with 1 Axes>"
      ]
     },
     "metadata": {
      "needs_background": "light"
     },
     "output_type": "display_data"
    }
   ],
   "source": [
    "high_acousticness = data['acousticness'] > 0.3\n",
    "high_instrumentalness = data['instrumentalness'] < 0.3\n",
    "\n",
    "songs_with_high_acoustic_and_instrument = data[high_acousticness & high_instrumentalness]\n",
    "\n",
    "plt.title(\"Distribution of likes among songs with low acousticness and instrumentalness\")\n",
    "songs_with_high_acoustic_and_instrument['liked'].value_counts().sort_values().plot(kind = 'barh')"
   ]
  },
  {
   "cell_type": "code",
   "execution_count": 39,
   "id": "bb897725",
   "metadata": {},
   "outputs": [
    {
     "data": {
      "text/plain": [
       "instrumentalness   -0.569440\n",
       "duration_ms        -0.490651\n",
       "acousticness       -0.179375\n",
       "key                -0.044406\n",
       "liveness           -0.009797\n",
       "mode                0.023747\n",
       "energy              0.176179\n",
       "time_signature      0.221479\n",
       "valence             0.268653\n",
       "tempo               0.371202\n",
       "loudness            0.410774\n",
       "danceability        0.569425\n",
       "speechiness         0.591505\n",
       "liked               1.000000\n",
       "Name: liked, dtype: float64"
      ]
     },
     "execution_count": 39,
     "metadata": {},
     "output_type": "execute_result"
    }
   ],
   "source": [
    "#correlation values for liked songs with other parameters\n",
    "c = data.corr()\n",
    "c['liked'].sort_values(kind=\"quicksort\")"
   ]
  },
  {
   "cell_type": "code",
   "execution_count": 42,
   "id": "d6082b0b",
   "metadata": {},
   "outputs": [
    {
     "data": {
      "text/plain": [
       "Text(0, 0.5, 'Instrumentalness')"
      ]
     },
     "execution_count": 42,
     "metadata": {},
     "output_type": "execute_result"
    },
    {
     "data": {
      "image/png": "[encoded data removed]",
      "text/plain": [
       "<Figure size 432x288 with 1 Axes>"
      ]
     },
     "metadata": {
      "needs_background": "light"
     },
     "output_type": "display_data"
    }
   ],
   "source": [
    "plt.plot(data['danceability'], data['instrumentalness'], 'o', markersize = 4, alpha=0.6)\n",
    "plt.title(\"Scatter plot of songs based on instrumentalness and danceability\")\n",
    "plt.xlabel(\"Danceability\", size=14)\n",
    "plt.ylabel(\"Instrumentalness\", size=14)"
   ]
  },
  {
   "cell_type": "code",
   "execution_count": 43,
   "id": "08d3b1e5",
   "metadata": {},
   "outputs": [
    {
     "data": {
      "text/plain": [
       "Text(0, 0.5, 'Acousticness')"
      ]
     },
     "execution_count": 43,
     "metadata": {},
     "output_type": "execute_result"
    },
    {
     "data": {
      "image/png": "[encoded data removed]",
      "text/plain": [
       "<Figure size 432x288 with 1 Axes>"
      ]
     },
     "metadata": {
      "needs_background": "light"
     },
     "output_type": "display_data"
    }
   ],
   "source": [
    "plt.plot(data['speechiness'], data['acousticness'], 'o', markersize = 4, alpha=0.6)\n",
    "plt.title(\"Scatter plot of songs based on speechiness and acousticness\")\n",
    "plt.xlabel(\"Speechiness\", size=14)\n",
    "plt.ylabel(\"Acousticness\", size=14)"
   ]
  },
  {
   "cell_type": "code",
   "execution_count": 44,
   "id": "39f60459",
   "metadata": {},
   "outputs": [
    {
     "data": {
      "text/plain": [
       "Text(0, 0.5, 'Instrumentalness')"
      ]
     },
     "execution_count": 44,
     "metadata": {},
     "output_type": "execute_result"
    },
    {
     "data": {
      "image/png": "[encoded data removed]",
      "text/plain": [
       "<Figure size 432x288 with 1 Axes>"
      ]
     },
     "metadata": {
      "needs_background": "light"
     },
     "output_type": "display_data"
    }
   ],
   "source": [
    "from scipy.stats import linregress\n",
    "\n",
    "xs = data['danceability']\n",
    "ys = data['instrumentalness']\n",
    "\n",
    "# Compute the linear regression\n",
    "res = linregress(xs, ys)\n",
    "\n",
    "# Plot the line of best fit\n",
    "fx = np.array([xs.min(), xs.max()])\n",
    "fy = res.slope * fx + res.intercept\n",
    "plt.plot(fx, fy, '-', alpha=0.7)\n",
    "\n",
    "plt.title(\"Best fit line of relationship between instrumentalness and danceability\")\n",
    "plt.xlabel(\"Danceability\", size=14)\n",
    "plt.ylabel(\"Instrumentalness\", size=14)"
   ]
  },
  {
   "cell_type": "code",
   "execution_count": 45,
   "id": "b9928319",
   "metadata": {},
   "outputs": [
    {
     "ename": "NameError",
     "evalue": "name 'df' is not defined",
     "output_type": "error",
     "traceback": [
      "\u001b[1;31m---------------------------------------------------------------------------\u001b[0m",
      "\u001b[1;31mNameError\u001b[0m                                 Traceback (most recent call last)",
      "Input \u001b[1;32mIn [45]\u001b[0m, in \u001b[0;36m<cell line: 3>\u001b[1;34m()\u001b[0m\n\u001b[0;32m      1\u001b[0m \u001b[38;5;28;01mfrom\u001b[39;00m \u001b[38;5;21;01mscipy\u001b[39;00m\u001b[38;5;21;01m.\u001b[39;00m\u001b[38;5;21;01mstats\u001b[39;00m \u001b[38;5;28;01mimport\u001b[39;00m linregress\n\u001b[1;32m----> 3\u001b[0m xs \u001b[38;5;241m=\u001b[39m \u001b[43mdf\u001b[49m[\u001b[38;5;124m'\u001b[39m\u001b[38;5;124mspeechiness\u001b[39m\u001b[38;5;124m'\u001b[39m]\n\u001b[0;32m      4\u001b[0m ys \u001b[38;5;241m=\u001b[39m df[\u001b[38;5;124m'\u001b[39m\u001b[38;5;124macousticness\u001b[39m\u001b[38;5;124m'\u001b[39m]\n\u001b[0;32m      6\u001b[0m \u001b[38;5;66;03m# Compute the linear regression\u001b[39;00m\n",
      "\u001b[1;31mNameError\u001b[0m: name 'df' is not defined"
     ]
    }
   ],
   "source": [
    "from scipy.stats import linregress\n",
    "\n",
    "xs = df['speechiness']\n",
    "ys = df['acousticness']\n",
    "\n",
    "# Compute the linear regression\n",
    "res = linregress(xs, ys)\n",
    "\n",
    "# Plot the line of best fit\n",
    "fx = np.array([xs.min(), xs.max()])\n",
    "fy = res.slope * fx + res.intercept\n",
    "plt.plot(fx, fy, '-', alpha=0.7)\n",
    "\n",
    "plt.title(\"Best fit line of relationship between speechiness and acousticness\")\n",
    "plt.xlabel(\"Speechiness\", size=14)\n",
    "plt.ylabel(\"Acousticness\", size=14)"
   ]
  },
  {
   "cell_type": "code",
   "execution_count": null,
   "id": "c711ed23",
   "metadata": {},
   "outputs": [],
   "source": []
  }
 ],
 "metadata": {
  "kernelspec": {
   "display_name": "Python 3 (ipykernel)",
   "language": "python",
   "name": "python3"
  },
  "language_info": {
   "codemirror_mode": {
    "name": "ipython",
    "version": 3
   },
   "file_extension": ".py",
   "mimetype": "text/x-python",
   "name": "python",
   "nbconvert_exporter": "python",
   "pygments_lexer": "ipython3",
   "version": "3.9.10"
  }
 },
 "nbformat": 4,
 "nbformat_minor": 5
}
